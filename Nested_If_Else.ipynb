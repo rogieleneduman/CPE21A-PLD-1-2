{
  "nbformat": 4,
  "nbformat_minor": 0,
  "metadata": {
    "colab": {
      "provenance": [],
      "authorship_tag": "ABX9TyNeTqNy46gr6WHxfQ49ltpD",
      "include_colab_link": true
    },
    "kernelspec": {
      "name": "python3",
      "display_name": "Python 3"
    },
    "language_info": {
      "name": "python"
    }
  },
  "cells": [
    {
      "cell_type": "markdown",
      "metadata": {
        "id": "view-in-github",
        "colab_type": "text"
      },
      "source": [
        "<a href=\"https://colab.research.google.com/github/rogieleneduman/CPE21A-PLD-1-2/blob/main/Nested_If_Else.ipynb\" target=\"_parent\"><img src=\"https://colab.research.google.com/assets/colab-badge.svg\" alt=\"Open In Colab\"/></a>"
      ]
    },
    {
      "cell_type": "markdown",
      "source": [
        "##Nested If Else"
      ],
      "metadata": {
        "id": "D3Xk_HVZHxU9"
      }
    },
    {
      "cell_type": "code",
      "execution_count": 27,
      "metadata": {
        "colab": {
          "base_uri": "https://localhost:8080/"
        },
        "id": "MNs5f_7wHu2l",
        "outputId": "9eb606fd-0373-4126-8e93-4ad2c1758703"
      },
      "outputs": [
        {
          "output_type": "stream",
          "name": "stdout",
          "text": [
            "above ten\n",
            "above twenty\n",
            "above thirty\n",
            "above forty\n",
            "below fifty\n"
          ]
        }
      ],
      "source": [
        "x = 41\n",
        "if x>10:\n",
        "  print(\"above ten\")\n",
        "  if x>20:\n",
        "    print(\"above twenty\")\n",
        "  else:\n",
        "    print(\"below twenty\")\n",
        "  if x<30:\n",
        "    print(\"below thirty\")\n",
        "  else:\n",
        "    print(\"above thirty\")\n",
        "  if x<40:\n",
        "    print(\"below forty\")\n",
        "  else:\n",
        "    print(\"above forty\")\n",
        "  if x<50:\n",
        "    print(\"below fifty\")\n",
        "  else:\n",
        "    print(\"above fifty\")"
      ]
    },
    {
      "cell_type": "code",
      "source": [
        "x = 41\n",
        "if x>10:\n",
        "  print(\"above ten\")\n",
        "  if x>20:\n",
        "    print(\"above twenty\")\n",
        "  else:\n",
        "    print(\"below twenty\")\n",
        "  if x>30:\n",
        "      print(\"above thirty\")\n",
        "  else:\n",
        "      print(\"below thirty\")\n",
        "  if x>40:\n",
        "        print(\"above forty\")\n",
        "  else:\n",
        "        print(\"below forty\")\n",
        "  if x>50:\n",
        "          print(\"above fifty\")\n",
        "  else:\n",
        "          print(\"below fifty\")  \n",
        "else:\n",
        "  print(\"not above ten\")\n"
      ],
      "metadata": {
        "colab": {
          "base_uri": "https://localhost:8080/"
        },
        "id": "bjXUThogRdtr",
        "outputId": "916ace33-6aaf-4554-cd9b-e77ed3a88f8f"
      },
      "execution_count": 19,
      "outputs": [
        {
          "output_type": "stream",
          "name": "stdout",
          "text": [
            "above ten\n",
            "above twenty\n",
            "above thirty\n",
            "above forty\n",
            "below fifty\n"
          ]
        }
      ]
    },
    {
      "cell_type": "code",
      "source": [
        "x = 41\n",
        "if x>10:\n",
        "  print(\"above 10\")\n",
        "  if x<20:\n",
        "    print(\"below 20\")\n",
        "  else:\n",
        "    print(\"above 20\")\n",
        "    if x<30:\n",
        "      print(\"below 30\")\n",
        "    else:\n",
        "      print(\"above 30\")\n",
        "      if x<40:\n",
        "        print(\"below 40\")\n",
        "      else:\n",
        "        print(\"above 40\")\n",
        "        if x<50:\n",
        "          print(\"below 50\")\n",
        "        else:\n",
        "          print(\"above 50\")"
      ],
      "metadata": {
        "colab": {
          "base_uri": "https://localhost:8080/"
        },
        "id": "wrT5Vb1lSE_A",
        "outputId": "d479abaf-a295-46cb-a717-782fe988f0fb"
      },
      "execution_count": 23,
      "outputs": [
        {
          "output_type": "stream",
          "name": "stdout",
          "text": [
            "above 10\n",
            "above 20\n",
            "above 30\n",
            "above 40\n",
            "below 50\n"
          ]
        }
      ]
    },
    {
      "cell_type": "markdown",
      "source": [
        "#Example 1\n",
        "\n",
        "> Write a program that determines if the input age is qualified to vote or not. the qualifying age is 18 years old and above.\n",
        "\n"
      ],
      "metadata": {
        "id": "j-hNh_xFTzWf"
      }
    },
    {
      "cell_type": "code",
      "source": [
        "print(\"Enter your age\")\n",
        "age = int(input())\n",
        "if age>18:\n",
        "  print(\"You are qualified to vote.\")\n",
        "elif age==18:\n",
        "  print(\"You are qualified to vote.\")\n",
        "else:\n",
        "    print(\"You are not qualified to vote.\")"
      ],
      "metadata": {
        "colab": {
          "base_uri": "https://localhost:8080/"
        },
        "id": "7A0SRnyNcFOQ",
        "outputId": "7f7d0093-7c58-43b3-cde1-1690c31c89bf"
      },
      "execution_count": 62,
      "outputs": [
        {
          "output_type": "stream",
          "name": "stdout",
          "text": [
            "Enter your age\n",
            "18\n",
            "You are qualified to vote.\n"
          ]
        }
      ]
    },
    {
      "cell_type": "markdown",
      "source": [
        "##Example 2\n",
        "\n",
        "> Write a program that determines if the input number is POSITIVE, NEGATIVE or ZERO\n",
        "\n"
      ],
      "metadata": {
        "id": "_zYaDjJQT59I"
      }
    },
    {
      "cell_type": "code",
      "source": [
        "print(\"Enter the number\")\n",
        "num = int(input())\n",
        "if num>0:\n",
        "  print(\"Positive\")\n",
        "elif num==0:\n",
        "  print(\"Zero\")\n",
        "else:\n",
        "    print(\"Negative\")"
      ],
      "metadata": {
        "colab": {
          "base_uri": "https://localhost:8080/"
        },
        "id": "kB2B-IUcT617",
        "outputId": "dcfaa8b1-81e0-45bc-dfb6-cce74957d2f2"
      },
      "execution_count": 76,
      "outputs": [
        {
          "output_type": "stream",
          "name": "stdout",
          "text": [
            "Enter a number\n",
            "-1\n",
            "Negative\n"
          ]
        }
      ]
    },
    {
      "cell_type": "markdown",
      "source": [
        "##Example 3\n",
        "\n",
        "> Write a program to determines if the grades are:\n",
        "\n",
        "  if:\n",
        "        grade > = 75, \"Passed\"\n",
        "        grade = 74, \"Remedial\"\n",
        "        grade < 74, \"Failed\"\n",
        "\n",
        "note: if grade is a negative number, it will not be accepted\n",
        "\n"
      ],
      "metadata": {
        "id": "L2Um78s6T7Kj"
      }
    },
    {
      "cell_type": "code",
      "source": [
        "print(\"Enter the grade\")\n",
        "grade= int(input())\n",
        "if grade>=75:\n",
        "  print(\"Passed\")\n",
        "elif grade==74:\n",
        "  print(\"Remedial\")\n",
        "else:\n",
        "  print(\"Failed\")"
      ],
      "metadata": {
        "colab": {
          "base_uri": "https://localhost:8080/"
        },
        "id": "s4RDJkdRT7WD",
        "outputId": "68928d22-92a0-4882-938c-b7cd66f4cbe6"
      },
      "execution_count": 85,
      "outputs": [
        {
          "output_type": "stream",
          "name": "stdout",
          "text": [
            "Enter the grade\n",
            "74\n",
            "Remedial\n"
          ]
        }
      ]
    }
  ]
}