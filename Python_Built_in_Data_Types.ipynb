{
  "nbformat": 4,
  "nbformat_minor": 0,
  "metadata": {
    "colab": {
      "provenance": [],
      "authorship_tag": "ABX9TyPBpUCKzGBd6Y1I0UCVc03p",
      "include_colab_link": true
    },
    "kernelspec": {
      "name": "python3",
      "display_name": "Python 3"
    },
    "language_info": {
      "name": "python"
    }
  },
  "cells": [
    {
      "cell_type": "markdown",
      "metadata": {
        "id": "view-in-github",
        "colab_type": "text"
      },
      "source": [
        "<a href=\"https://colab.research.google.com/github/rogieleneduman/CPE21A-PLD-1-2/blob/main/Python_Built_in_Data_Types.ipynb\" target=\"_parent\"><img src=\"https://colab.research.google.com/assets/colab-badge.svg\" alt=\"Open In Colab\"/></a>"
      ]
    },
    {
      "cell_type": "code",
      "execution_count": 1,
      "metadata": {
        "id": "wx2NQjXq1WlI"
      },
      "outputs": [],
      "source": [
        "#Variables and Data Types\n",
        "\n",
        "#Numbers\n",
        "varNum = 123\n",
        "pi = 3.14159\n",
        "\n",
        "#Strings\n",
        "varString = \"Hello World!\"\n",
        "varText = 'This is a String'\n",
        "\n",
        "#Lists\n",
        "varList = [\"abc\",123]\n",
        "\n",
        "#Tuples\n",
        "varTuple = ('abc', 123, \"HELLO\")\n",
        "\n",
        "#Dictionaries\n",
        "var = 3\n",
        "varDict = {'first':1, '2':'2nd', 3:var}\n",
        "varDict ={}\n",
        "varDict['first']=1\n",
        "varDict['2']='2nd'\n",
        "varDict[3]=var"
      ]
    },
    {
      "cell_type": "code",
      "source": [
        "#Arithmetic\n",
        "\n",
        "#Addition\n",
        "a = 5 + 3\n",
        "\n",
        "#Subtraction\n",
        "a = 5 - 3 \n",
        "\n",
        "#Multiplication\n",
        "a = 5 * 3\n",
        "\n",
        "#Exponent\n",
        "a = 5 ** 3\n",
        "\n",
        "#Division\n",
        "a = 5 / 3\n",
        "a = 5 % 3\n",
        "a = 5 // 3\n",
        "\n",
        "#Increment/Decrement\n",
        "a = 5\n",
        "a += 1\n",
        "\n",
        "#Decrement\n",
        "a = 5 \n",
        "a -= 1\n",
        "\n",
        "#String Concatenation\n",
        "a = 'Hello' + 'World'\n",
        "\n",
        "#Complex Expressions\n",
        "a = 3 + 5 - 6 * 2 / 4"
      ],
      "metadata": {
        "id": "M-pSfj6T1hxA"
      },
      "execution_count": 2,
      "outputs": []
    },
    {
      "cell_type": "code",
      "source": [
        "#Conditional Statements\n",
        "\n",
        "#Boolean Conditions\n",
        "x = True\n",
        "if x:\n",
        "  print(\"var x is True\")\n",
        "else:\n",
        "  print(\"var x is False\")\n",
        "\n",
        "#String Conditions\n",
        "x = \"Hello World!\"\n",
        "if x == 'Hellp World!':\n",
        "  print(\"var x is Hello World!\")\n",
        "else:\n",
        "  print(\"var x is Hello World!\")\n",
        "\n",
        "#Numerical Conditions\n",
        "x = 10\n",
        "if x == '10':\n",
        "  print(\"var x is a string\")\n",
        "elif x == 10:\n",
        "  print(\"var x is integer\")\n",
        "else:\n",
        "  print(\"var x is none of the above\")"
      ],
      "metadata": {
        "colab": {
          "base_uri": "https://localhost:8080/"
        },
        "id": "4UTm0KIz1n_V",
        "outputId": "aa0fcf19-58e6-4dbb-eb55-d3ab9e3a833a"
      },
      "execution_count": 3,
      "outputs": [
        {
          "output_type": "stream",
          "name": "stdout",
          "text": [
            "var x is True\n",
            "var x is Hello World!\n",
            "var x is integer\n"
          ]
        }
      ]
    },
    {
      "cell_type": "code",
      "source": [
        "#Loops\n",
        "\n",
        "#For Loops\n",
        "for var in range(0,5,2):\n",
        "  print(var)\n",
        "\n",
        "#While Loops\n",
        "var = 0\n",
        "while var < 5:\n",
        "  print(var)\n",
        "  var += 2\n",
        "\n",
        "#Nested Loops\n",
        "x = 0\n",
        "while x < 5:\n",
        "  for y in range (0, x):\n",
        "    print(y, end='')\n",
        "  x += 1\n",
        "  print()"
      ],
      "metadata": {
        "colab": {
          "base_uri": "https://localhost:8080/"
        },
        "id": "czwm_6Y41s1J",
        "outputId": "a1e2ae22-9cad-4d8e-bd32-fd306f1f1408"
      },
      "execution_count": 4,
      "outputs": [
        {
          "output_type": "stream",
          "name": "stdout",
          "text": [
            "0\n",
            "2\n",
            "4\n",
            "0\n",
            "2\n",
            "4\n",
            "\n",
            "0\n",
            "01\n",
            "012\n",
            "0123\n"
          ]
        }
      ]
    },
    {
      "cell_type": "code",
      "source": [
        "#Functions\n",
        "\n",
        "def remainder(n, m):\n",
        "  while True:\n",
        "    if n - m < 0:\n",
        "      return n\n",
        "    else:\n",
        "      n = n - m\n",
        "remainder(10, 4)"
      ],
      "metadata": {
        "colab": {
          "base_uri": "https://localhost:8080/"
        },
        "id": "IDA4TVQx1tsH",
        "outputId": "0235769b-dde9-4ae9-8767-ab51ca908794"
      },
      "execution_count": 5,
      "outputs": [
        {
          "output_type": "execute_result",
          "data": {
            "text/plain": [
              "2"
            ]
          },
          "metadata": {},
          "execution_count": 5
        }
      ]
    },
    {
      "cell_type": "code",
      "source": [
        "#Lists\n",
        "\n",
        "pi = 3.14159\n",
        "varList = [1,2,'A','B','Hello!',pi]\n",
        "print(varList[0])\n",
        "\n",
        "print(varList[4])\n",
        "\n",
        "varList.append('World!')\n",
        "print(varList[6])\n",
        "\n",
        "len(varList)\n",
        "\n",
        "print(varList[5])\n",
        "\n",
        "varList.remove(pi)\n",
        "print(varList[5])"
      ],
      "metadata": {
        "colab": {
          "base_uri": "https://localhost:8080/"
        },
        "id": "uRWr_7qj1v2M",
        "outputId": "861853e7-1258-4060-a287-3468bdc17c18"
      },
      "execution_count": 6,
      "outputs": [
        {
          "output_type": "stream",
          "name": "stdout",
          "text": [
            "1\n",
            "Hello!\n",
            "World!\n",
            "3.14159\n",
            "World!\n"
          ]
        }
      ]
    },
    {
      "cell_type": "code",
      "source": [
        "#Dictionaries\n",
        "\n",
        "var = \"Hello World!\"\n",
        "varDict = {'first': 123, 2 : 'abc',\n",
        "           '3': var, 4 : ['lista', 'listb']}\n",
        "print(varDict['first'])\n",
        "\n",
        "print(varDict[2])\n",
        "\n",
        "print(varDict['3'])\n",
        "\n",
        "print(varDict[4])\n",
        "\n",
        "print(varDict[4][1])\n",
        "\n",
        "len(varDict)"
      ],
      "metadata": {
        "colab": {
          "base_uri": "https://localhost:8080/"
        },
        "id": "MVbbzVWZ1yNf",
        "outputId": "0c5fc9e3-50e6-42ac-aa85-20cc4834044a"
      },
      "execution_count": 7,
      "outputs": [
        {
          "output_type": "stream",
          "name": "stdout",
          "text": [
            "123\n",
            "abc\n",
            "Hello World!\n",
            "['lista', 'listb']\n",
            "listb\n"
          ]
        },
        {
          "output_type": "execute_result",
          "data": {
            "text/plain": [
              "4"
            ]
          },
          "metadata": {},
          "execution_count": 7
        }
      ]
    },
    {
      "cell_type": "code",
      "source": [
        "#List Generators and Comprehension\n",
        "\n",
        "def gen_num_up_to(n):\n",
        "  num = 0\n",
        "  while num < n:\n",
        "    yield num\n",
        "    num += 1\n",
        "\n",
        "gen_num_up_to(5)\n",
        "\n",
        "varList = gen_num_up_to(5)\n",
        "print([var for var in varList])\n",
        "\n",
        "def gen_num_up_to(n):\n",
        "  num = 0\n",
        "  while num < n:\n",
        "    yield num\n",
        "    num += 2\n",
        "\n",
        "varList = gen_num_up_to(5)\n",
        "print([var for var in varList])\n",
        "\n",
        "varList = range(0,5,2)\n",
        "print([var for var in varList])"
      ],
      "metadata": {
        "colab": {
          "base_uri": "https://localhost:8080/"
        },
        "id": "NTLT8qHe1y2B",
        "outputId": "a6bff1e2-1e1b-40d4-b160-42d76e392b61"
      },
      "execution_count": 8,
      "outputs": [
        {
          "output_type": "stream",
          "name": "stdout",
          "text": [
            "[0, 1, 2, 3, 4]\n",
            "[0, 2, 4]\n",
            "[0, 2, 4]\n"
          ]
        }
      ]
    },
    {
      "cell_type": "code",
      "source": [
        "#Slicing\n",
        "\n",
        "varList = [1,2,3,4,5,6,7,8,9,10]\n",
        "print(varList[:5])\n",
        "\n",
        "print(varList[5:])\n",
        "\n",
        "print(varList[:-2])\n",
        "\n",
        "print(varList[-2:])\n",
        "\n",
        "print(varList[2:-2])\n",
        "\n",
        "print(varList[2:8:2])"
      ],
      "metadata": {
        "colab": {
          "base_uri": "https://localhost:8080/"
        },
        "id": "AHm2k7jE16TK",
        "outputId": "035c6026-8531-4ada-8c4c-d8ed12c664a7"
      },
      "execution_count": 9,
      "outputs": [
        {
          "output_type": "stream",
          "name": "stdout",
          "text": [
            "[1, 2, 3, 4, 5]\n",
            "[6, 7, 8, 9, 10]\n",
            "[1, 2, 3, 4, 5, 6, 7, 8]\n",
            "[9, 10]\n",
            "[3, 4, 5, 6, 7, 8]\n",
            "[3, 5, 7]\n"
          ]
        }
      ]
    }
  ]
}