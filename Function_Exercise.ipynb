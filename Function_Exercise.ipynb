{
  "nbformat": 4,
  "nbformat_minor": 0,
  "metadata": {
    "colab": {
      "provenance": [],
      "authorship_tag": "ABX9TyMZ8GGAQRI20sEdwA4cxGuK",
      "include_colab_link": true
    },
    "kernelspec": {
      "name": "python3",
      "display_name": "Python 3"
    },
    "language_info": {
      "name": "python"
    }
  },
  "cells": [
    {
      "cell_type": "markdown",
      "metadata": {
        "id": "view-in-github",
        "colab_type": "text"
      },
      "source": [
        "<a href=\"https://colab.research.google.com/github/rogieleneduman/CPE21A-PLD-1-2/blob/main/Function_Exercise.ipynb\" target=\"_parent\"><img src=\"https://colab.research.google.com/assets/colab-badge.svg\" alt=\"Open In Colab\"/></a>"
      ]
    },
    {
      "cell_type": "markdown",
      "source": [
        "Two of Python's built-in functions are min and max. In Google Colab, execute the following function calls:"
      ],
      "metadata": {
        "id": "kCaK4jWPflaC"
      }
    },
    {
      "cell_type": "markdown",
      "source": [
        "a. min(2,3,4)"
      ],
      "metadata": {
        "id": "XEzFyj05dElC"
      }
    },
    {
      "cell_type": "code",
      "execution_count": 1,
      "metadata": {
        "colab": {
          "base_uri": "https://localhost:8080/"
        },
        "id": "A-Af5ZQlcXEu",
        "outputId": "149ca79f-1c09-4a7c-b2fb-b2abe259f707"
      },
      "outputs": [
        {
          "output_type": "stream",
          "name": "stdout",
          "text": [
            "minimum of 2,3,4 is : 2\n"
          ]
        }
      ],
      "source": [
        "print(\"minimum of 2,3,4 is : \",end=\"\")\n",
        "print (min(2,3,4))"
      ]
    },
    {
      "cell_type": "code",
      "source": [
        "min([2,3,4])"
      ],
      "metadata": {
        "colab": {
          "base_uri": "https://localhost:8080/"
        },
        "id": "6TXVj1NajFMG",
        "outputId": "3fdd19c8-bf9e-44c5-f882-66317789589a"
      },
      "execution_count": null,
      "outputs": [
        {
          "output_type": "execute_result",
          "data": {
            "text/plain": [
              "2"
            ]
          },
          "metadata": {},
          "execution_count": 15
        }
      ]
    },
    {
      "cell_type": "markdown",
      "source": [
        "b. max(2,-3,4,7,-5)"
      ],
      "metadata": {
        "id": "PYzePnOSeEfx"
      }
    },
    {
      "cell_type": "code",
      "source": [
        "print(\"maximum of 2,-3,4,7,-5 is : \",end=\"\")\n",
        "print (max(2,-3,4,7,-5))"
      ],
      "metadata": {
        "colab": {
          "base_uri": "https://localhost:8080/"
        },
        "id": "RW7QdtssjKll",
        "outputId": "9b27a952-d5ff-4a95-db9b-ca77950eb976"
      },
      "execution_count": null,
      "outputs": [
        {
          "output_type": "stream",
          "name": "stdout",
          "text": [
            "maximum of 2,-3,4,7,-5 is : 7\n"
          ]
        }
      ]
    },
    {
      "cell_type": "code",
      "source": [
        "max ([2,-3,4,7,-5])"
      ],
      "metadata": {
        "colab": {
          "base_uri": "https://localhost:8080/"
        },
        "id": "YCItSWx5eCWO",
        "outputId": "662fd39f-9236-4079-d6df-3c1ecca918a9"
      },
      "execution_count": null,
      "outputs": [
        {
          "output_type": "execute_result",
          "data": {
            "text/plain": [
              "7"
            ]
          },
          "metadata": {},
          "execution_count": 3
        }
      ]
    },
    {
      "cell_type": "markdown",
      "source": [
        "c. max(2,-3,min(4,7),-5)"
      ],
      "metadata": {
        "id": "pGk9V2yaeVrU"
      }
    },
    {
      "cell_type": "code",
      "source": [
        "print(\"maximum of 2,-3, min(4,7),-5 is : \",end=\"\")\n",
        "print (max(2,-3,min(4,7),-5))"
      ],
      "metadata": {
        "colab": {
          "base_uri": "https://localhost:8080/"
        },
        "id": "Yb6Cg6p6jYKi",
        "outputId": "9d01359e-c9af-45dd-a79d-29de697a8690"
      },
      "execution_count": null,
      "outputs": [
        {
          "output_type": "stream",
          "name": "stdout",
          "text": [
            "maximum of 2,-3, min(4,7),-5 is : 4\n"
          ]
        }
      ]
    },
    {
      "cell_type": "code",
      "source": [
        "max ([2,-3,min(4,7),-5])"
      ],
      "metadata": {
        "colab": {
          "base_uri": "https://localhost:8080/"
        },
        "id": "cR0VmYUoeV4j",
        "outputId": "62645d4b-8e0f-480d-e4a7-998610acd3b6"
      },
      "execution_count": null,
      "outputs": [
        {
          "output_type": "execute_result",
          "data": {
            "text/plain": [
              "4"
            ]
          },
          "metadata": {},
          "execution_count": 4
        }
      ]
    }
  ]
}