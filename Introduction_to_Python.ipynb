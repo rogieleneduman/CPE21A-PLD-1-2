{
  "nbformat": 4,
  "nbformat_minor": 0,
  "metadata": {
    "colab": {
      "provenance": [],
      "collapsed_sections": [],
      "authorship_tag": "ABX9TyNEEgYN/kExyvCHnUiMhhVI",
      "include_colab_link": true
    },
    "kernelspec": {
      "name": "python3",
      "display_name": "Python 3"
    },
    "language_info": {
      "name": "python"
    }
  },
  "cells": [
    {
      "cell_type": "markdown",
      "metadata": {
        "id": "view-in-github",
        "colab_type": "text"
      },
      "source": [
        "<a href=\"https://colab.research.google.com/github/rogieleneduman/CPE21A-PLD-1-2/blob/main/Introduction_to_Python.ipynb\" target=\"_parent\"><img src=\"https://colab.research.google.com/assets/colab-badge.svg\" alt=\"Open In Colab\"/></a>"
      ]
    },
    {
      "cell_type": "markdown",
      "source": [
        "#Indentation\n"
      ],
      "metadata": {
        "id": "PlxeyOUTEi-T"
      }
    },
    {
      "cell_type": "code",
      "source": [
        "if 5>3:\n",
        "  print(\"5 is greater than 3\")"
      ],
      "metadata": {
        "colab": {
          "base_uri": "https://localhost:8080/"
        },
        "id": "mrDMqrYSEVUB",
        "outputId": "69073e7c-8e62-4e48-e3d3-8787b3fd5961"
      },
      "execution_count": 28,
      "outputs": [
        {
          "output_type": "stream",
          "name": "stdout",
          "text": [
            "5 is greater than 3\n"
          ]
        }
      ]
    },
    {
      "cell_type": "markdown",
      "source": [
        "#Variable Declaration\n",
        "\n"
      ],
      "metadata": {
        "id": "90v92b0gFqP7"
      }
    },
    {
      "cell_type": "code",
      "source": [
        "#variable with a single value\n",
        "\n",
        "x=5\n",
        "y=3\n",
        "if x<y:\n",
        "  print(\"x is greater than y\")\n",
        "else:\n",
        "    print (\"y is greater than\")\n",
        "\n",
        "#variable with multiple values\n",
        "\n",
        "a,b = 1,2\n",
        "print(\"The value of a is:\",a)\n",
        "print(\"The value of b is:\",b)\n",
        "\n",
        "#multiple variables with a single value\n",
        "\n",
        "p=q=r= \"cutie\"\n",
        "print(p)\n",
        "print(q)\n",
        "print(r)\n"
      ],
      "metadata": {
        "colab": {
          "base_uri": "https://localhost:8080/"
        },
        "id": "GGynSHSqF0_j",
        "outputId": "d876ab3e-7ae4-47ea-c3eb-93dd2c22db35"
      },
      "execution_count": 32,
      "outputs": [
        {
          "output_type": "stream",
          "name": "stdout",
          "text": [
            "y is greater than\n",
            "The value of a is: 1\n",
            "The value of b is: 2\n",
            "cutie\n",
            "cutie\n",
            "cutie\n"
          ]
        }
      ]
    },
    {
      "cell_type": "markdown",
      "source": [
        "#Casting and Type() function"
      ],
      "metadata": {
        "id": "z3Kjr82_G-Ui"
      }
    },
    {
      "cell_type": "code",
      "source": [
        "f = int(4) #integer\n",
        "g = float(4) #decimal/fractional\n",
        "\n",
        "print(f)\n",
        "print(g)\n",
        "\n",
        "print(type(f))\n",
        "print(type(g))\n",
        "\n"
      ],
      "metadata": {
        "colab": {
          "base_uri": "https://localhost:8080/"
        },
        "id": "r-Wxnl0oF0BL",
        "outputId": "ab900030-bf56-412e-e34b-d50b6b6678aa"
      },
      "execution_count": 25,
      "outputs": [
        {
          "output_type": "stream",
          "name": "stdout",
          "text": [
            "4\n",
            "4.0\n",
            "<class 'int'>\n",
            "<class 'float'>\n"
          ]
        }
      ]
    },
    {
      "cell_type": "markdown",
      "source": [
        "#Double quote or single quote"
      ],
      "metadata": {
        "id": "qvCEhMTTHsrf"
      }
    },
    {
      "cell_type": "code",
      "source": [
        "name = \"Rogielene\"\n",
        "name1 = \"Ann Mae\"\n",
        "name2 = \"Duman\"\n",
        "\n",
        "print(name)\n",
        "print(name1)\n",
        "print(name2)"
      ],
      "metadata": {
        "colab": {
          "base_uri": "https://localhost:8080/",
          "height": 0
        },
        "id": "TxVFJQkPHziP",
        "outputId": "ec7b9428-5a4c-4d5d-cb16-048fa4da6af1"
      },
      "execution_count": 13,
      "outputs": [
        {
          "output_type": "stream",
          "name": "stdout",
          "text": [
            "Rogielene\n",
            "Ann Mae\n",
            "Duman\n"
          ]
        }
      ]
    },
    {
      "cell_type": "markdown",
      "source": [
        "#Case Sensitive"
      ],
      "metadata": {
        "id": "5Dsjo9BUIj-n"
      }
    },
    {
      "cell_type": "code",
      "source": [
        "a = \"Rogielene\"\n",
        "print(a)"
      ],
      "metadata": {
        "colab": {
          "base_uri": "https://localhost:8080/",
          "height": 0
        },
        "id": "_5tbFOjfIcT6",
        "outputId": "22ae3e8e-40b8-4958-e118-81f91b30c7d0"
      },
      "execution_count": 17,
      "outputs": [
        {
          "output_type": "stream",
          "name": "stdout",
          "text": [
            "Rogielene\n"
          ]
        }
      ]
    },
    {
      "cell_type": "markdown",
      "source": [
        "#Output Variable"
      ],
      "metadata": {
        "id": "9J0i4rpSJAJB"
      }
    },
    {
      "cell_type": "code",
      "source": [
        "c = \"is cool!\"\n",
        "print(\"Python Programming\"+c) #append is cool!\n",
        "\n",
        "t = \"Python\"\n",
        "z = t+c\n",
        "print(z)\n"
      ],
      "metadata": {
        "colab": {
          "base_uri": "https://localhost:8080/"
        },
        "id": "C8a-IYU-I_RQ",
        "outputId": "bf2ab9ec-0f61-4c28-d08f-64a4d0f0cac4"
      },
      "execution_count": 31,
      "outputs": [
        {
          "output_type": "stream",
          "name": "stdout",
          "text": [
            "Python Programmingis cool!\n",
            "Pythonis cool!\n"
          ]
        }
      ]
    }
  ]
}