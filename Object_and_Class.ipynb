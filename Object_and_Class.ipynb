{
  "nbformat": 4,
  "nbformat_minor": 0,
  "metadata": {
    "colab": {
      "provenance": [],
      "authorship_tag": "ABX9TyPN7Hs1dGaGjTAD8T/zkopS",
      "include_colab_link": true
    },
    "kernelspec": {
      "name": "python3",
      "display_name": "Python 3"
    },
    "language_info": {
      "name": "python"
    }
  },
  "cells": [
    {
      "cell_type": "markdown",
      "metadata": {
        "id": "view-in-github",
        "colab_type": "text"
      },
      "source": [
        "<a href=\"https://colab.research.google.com/github/rogieleneduman/CPE21A-PLD-1-2/blob/main/Object_and_Class.ipynb\" target=\"_parent\"><img src=\"https://colab.research.google.com/assets/colab-badge.svg\" alt=\"Open In Colab\"/></a>"
      ]
    },
    {
      "cell_type": "code",
      "execution_count": 15,
      "metadata": {
        "id": "SuByRhUOxADy",
        "colab": {
          "base_uri": "https://localhost:8080/"
        },
        "outputId": "1308ef1f-3d0f-46ad-d243-5e252c86474c"
      },
      "outputs": [
        {
          "output_type": "stream",
          "name": "stdout",
          "text": [
            "My personal info are all here\n",
            "My name is: Rogielene\n",
            "My age is: 18\n",
            "My birthdate is: February 10, 2004\n"
          ]
        }
      ],
      "source": [
        "class Person:\n",
        "  def __init__(self,name,age,birthdate):                  #object and class constructor\n",
        "    self.name=name\n",
        "    self.age=age\n",
        "    self.birthdate=birthdate\n",
        "  \n",
        "  def info(self):                                         #method constructor\n",
        "    return \"My personal info are all here\"\n",
        "\n",
        "class Student(Person):                                    #inheritance\n",
        "  pass\n",
        "\n",
        "person = Student(\"Rogielene\",18,\"February 10, 2004\")      #naming object\n",
        "print(person.info())\n",
        "print(\"My name is:\",person.name)\n",
        "print(\"My age is:\",person.age)\n",
        "print(\"My birthdate is:\",person.birthdate)\n"
      ]
    },
    {
      "cell_type": "markdown",
      "source": [
        "#Exercise 1\n",
        "\n",
        "##Write a Python program that:\n",
        "##Use Shape as parent class, Rectangle as child with length and width attributes\n",
        "##Use Perimeter() and Area() as methods for the perimeter and area of the rectangle"
      ],
      "metadata": {
        "id": "c900vtdk1yGJ"
      }
    },
    {
      "cell_type": "code",
      "source": [
        "class Shape:                                                        #Parent Class\n",
        "  def __init__(self,length,width):\n",
        "    self.length = length\n",
        "    self.width = width\n",
        "  \n",
        "  def description(self):\n",
        "    return \"This are the attributes of a Rectangle\"\n",
        "  \n",
        "class Rectangle(Shape):                                             #Child Class\n",
        "  def __init__(self,length,width):\n",
        "    self.length = length\n",
        "    self.width = width\n",
        "  \n",
        "  def get_length(self):\n",
        "    return self.length\n",
        "  \n",
        "  def get_width(self):\n",
        "    return self.width\n",
        "\n",
        "  def get_area(self):                                               #Method\n",
        "    return self.length * self.width\n",
        "\n",
        "  def get_perimeter(self):                                          #Method\n",
        "    return 2 * (self.length + self.width)\n",
        "\n",
        "shape = Rectangle(7,4)\n",
        "print(\"The length of Rectangle is:\",shape.length)\n",
        "print(\"The width of Rectangle is:\",shape.width)\n",
        "print(\"The area of Rectangle is:\",shape.get_area())\n",
        "print(\"The perimeter of Rectangle is:\",shape.get_perimeter())\n",
        "\n"
      ],
      "metadata": {
        "id": "1O3YNM3I1ses",
        "colab": {
          "base_uri": "https://localhost:8080/"
        },
        "outputId": "32af3875-0ddd-4ea9-e9bc-a8472f59349e"
      },
      "execution_count": 16,
      "outputs": [
        {
          "output_type": "stream",
          "name": "stdout",
          "text": [
            "The length of Rectangle is: 7\n",
            "The width of Rectangle is: 4\n",
            "The area of Rectangle is: 28\n",
            "The perimeter of Rectangle is: 22\n"
          ]
        }
      ]
    }
  ]
}